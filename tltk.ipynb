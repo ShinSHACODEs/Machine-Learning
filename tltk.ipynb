{
  "nbformat": 4,
  "nbformat_minor": 0,
  "metadata": {
    "colab": {
      "provenance": [],
      "collapsed_sections": [
        "-rT4pf8P2z8n",
        "8R07YSSJ4MLQ",
        "E1-PM-H76Xaq",
        "dakwPzCA26Ys",
        "j9e_MIpI9Bmp",
        "0uVz8zpk2_9z",
        "yRILYOgn3sJi",
        "aSM5pYDh34nF",
        "v8m4pKdrdND6",
        "T2_b91-tBZI7",
        "shBKpqMLl5DX",
        "VCnq5n87dfma"
      ]
    },
    "kernelspec": {
      "name": "python3",
      "display_name": "Python 3"
    }
  },
  "cells": [
    {
      "cell_type": "markdown",
      "metadata": {
        "id": "7fkp29_a1szi"
      },
      "source": [
        "ทดลองใช้ feature ต่างๆ ของ [tltk](https://pypi.org/project/tltk/) ดู   ว่าได้ผลดีมากน้อยแค่ไหนแล้ว"
      ]
    },
    {
      "cell_type": "markdown",
      "metadata": {
        "id": "sid6kE8q1zux"
      },
      "source": [
        "## Import"
      ]
    },
    {
      "cell_type": "code",
      "metadata": {
        "id": "gS3PBd2U1qoK",
        "outputId": "4efa9dff-cc50-47b0-a132-7eeb3370b3ea",
        "colab": {
          "base_uri": "https://localhost:8080/",
          "height": 728
        }
      },
      "source": [
        "!pip install tltk"
      ],
      "execution_count": null,
      "outputs": [
        {
          "output_type": "stream",
          "text": [
            "Collecting tltk\n",
            "\u001b[?25l  Downloading https://files.pythonhosted.org/packages/d6/a8/89c69547602f894f87df586ec42033b94ad2e55df7771a0096fa49487926/tltk-1.2.1.tar.gz (10.5MB)\n",
            "\u001b[K    100% |████████████████████████████████| 10.5MB 3.8MB/s \n",
            "\u001b[?25hRequirement already satisfied: nltk in /usr/local/lib/python3.6/dist-packages (from tltk) (3.2.5)\n",
            "Requirement already satisfied: sklearn in /usr/local/lib/python3.6/dist-packages (from tltk) (0.0)\n",
            "Collecting sklearn_crfsuite (from tltk)\n",
            "  Downloading https://files.pythonhosted.org/packages/25/74/5b7befa513482e6dee1f3dd68171a6c9dfc14c0eaa00f885ffeba54fe9b0/sklearn_crfsuite-0.3.6-py2.py3-none-any.whl\n",
            "Requirement already satisfied: gensim in /usr/local/lib/python3.6/dist-packages (from tltk) (3.6.0)\n",
            "Requirement already satisfied: six in /usr/local/lib/python3.6/dist-packages (from nltk->tltk) (1.11.0)\n",
            "Requirement already satisfied: scikit-learn in /usr/local/lib/python3.6/dist-packages (from sklearn->tltk) (0.20.2)\n",
            "Collecting python-crfsuite>=0.8.3 (from sklearn_crfsuite->tltk)\n",
            "\u001b[?25l  Downloading https://files.pythonhosted.org/packages/2f/86/cfcd71edca9d25d3d331209a20f6314b6f3f134c29478f90559cee9ce091/python_crfsuite-0.9.6-cp36-cp36m-manylinux1_x86_64.whl (754kB)\n",
            "\u001b[K    100% |████████████████████████████████| 757kB 20.8MB/s \n",
            "\u001b[?25hRequirement already satisfied: tabulate in /usr/local/lib/python3.6/dist-packages (from sklearn_crfsuite->tltk) (0.8.3)\n",
            "Requirement already satisfied: tqdm>=2.0 in /usr/local/lib/python3.6/dist-packages (from sklearn_crfsuite->tltk) (4.28.1)\n",
            "Requirement already satisfied: numpy>=1.11.3 in /usr/local/lib/python3.6/dist-packages (from gensim->tltk) (1.14.6)\n",
            "Requirement already satisfied: smart-open>=1.2.1 in /usr/local/lib/python3.6/dist-packages (from gensim->tltk) (1.8.0)\n",
            "Requirement already satisfied: scipy>=0.18.1 in /usr/local/lib/python3.6/dist-packages (from gensim->tltk) (1.1.0)\n",
            "Requirement already satisfied: boto>=2.32 in /usr/local/lib/python3.6/dist-packages (from smart-open>=1.2.1->gensim->tltk) (2.49.0)\n",
            "Requirement already satisfied: bz2file in /usr/local/lib/python3.6/dist-packages (from smart-open>=1.2.1->gensim->tltk) (0.98)\n",
            "Requirement already satisfied: requests in /usr/local/lib/python3.6/dist-packages (from smart-open>=1.2.1->gensim->tltk) (2.18.4)\n",
            "Requirement already satisfied: boto3 in /usr/local/lib/python3.6/dist-packages (from smart-open>=1.2.1->gensim->tltk) (1.9.100)\n",
            "Requirement already satisfied: chardet<3.1.0,>=3.0.2 in /usr/local/lib/python3.6/dist-packages (from requests->smart-open>=1.2.1->gensim->tltk) (3.0.4)\n",
            "Requirement already satisfied: certifi>=2017.4.17 in /usr/local/lib/python3.6/dist-packages (from requests->smart-open>=1.2.1->gensim->tltk) (2018.11.29)\n",
            "Requirement already satisfied: idna<2.7,>=2.5 in /usr/local/lib/python3.6/dist-packages (from requests->smart-open>=1.2.1->gensim->tltk) (2.6)\n",
            "Requirement already satisfied: urllib3<1.23,>=1.21.1 in /usr/local/lib/python3.6/dist-packages (from requests->smart-open>=1.2.1->gensim->tltk) (1.22)\n",
            "Requirement already satisfied: jmespath<1.0.0,>=0.7.1 in /usr/local/lib/python3.6/dist-packages (from boto3->smart-open>=1.2.1->gensim->tltk) (0.9.3)\n",
            "Requirement already satisfied: botocore<1.13.0,>=1.12.100 in /usr/local/lib/python3.6/dist-packages (from boto3->smart-open>=1.2.1->gensim->tltk) (1.12.100)\n",
            "Requirement already satisfied: s3transfer<0.3.0,>=0.2.0 in /usr/local/lib/python3.6/dist-packages (from boto3->smart-open>=1.2.1->gensim->tltk) (0.2.0)\n",
            "Requirement already satisfied: docutils>=0.10 in /usr/local/lib/python3.6/dist-packages (from botocore<1.13.0,>=1.12.100->boto3->smart-open>=1.2.1->gensim->tltk) (0.14)\n",
            "Requirement already satisfied: python-dateutil<3.0.0,>=2.1; python_version >= \"2.7\" in /usr/local/lib/python3.6/dist-packages (from botocore<1.13.0,>=1.12.100->boto3->smart-open>=1.2.1->gensim->tltk) (2.5.3)\n",
            "Building wheels for collected packages: tltk\n",
            "  Building wheel for tltk (setup.py) ... \u001b[?25ldone\n",
            "\u001b[?25h  Stored in directory: /root/.cache/pip/wheels/12/7b/32/5dccd202a0896e39b2adf82252e7e508560ce64e0a6bdbec6a\n",
            "Successfully built tltk\n",
            "Installing collected packages: python-crfsuite, sklearn-crfsuite, tltk\n",
            "Successfully installed python-crfsuite-0.9.6 sklearn-crfsuite-0.3.6 tltk-1.2.1\n"
          ],
          "name": "stdout"
        }
      ]
    },
    {
      "cell_type": "code",
      "metadata": {
        "id": "CKO9TAyx2X5t",
        "outputId": "0ad8c55c-d130-4404-ee81-f5f4742e56f7",
        "colab": {
          "base_uri": "https://localhost:8080/",
          "height": 101
        }
      },
      "source": [
        "!pip install sklearn-crfsuite"
      ],
      "execution_count": null,
      "outputs": [
        {
          "output_type": "stream",
          "text": [
            "Requirement already satisfied: sklearn-crfsuite in /usr/local/lib/python3.6/dist-packages (0.3.6)\n",
            "Requirement already satisfied: six in /usr/local/lib/python3.6/dist-packages (from sklearn-crfsuite) (1.11.0)\n",
            "Requirement already satisfied: tqdm>=2.0 in /usr/local/lib/python3.6/dist-packages (from sklearn-crfsuite) (4.26.0)\n",
            "Requirement already satisfied: python-crfsuite>=0.8.3 in /usr/local/lib/python3.6/dist-packages (from sklearn-crfsuite) (0.9.6)\n",
            "Requirement already satisfied: tabulate in /usr/local/lib/python3.6/dist-packages (from sklearn-crfsuite) (0.8.2)\n"
          ],
          "name": "stdout"
        }
      ]
    },
    {
      "cell_type": "code",
      "metadata": {
        "id": "vsOzk3UMd6ri",
        "outputId": "5127a4cc-6a8e-4639-c4e1-ae071de19e02",
        "colab": {
          "base_uri": "https://localhost:8080/",
          "height": 373
        }
      },
      "source": [
        "!pip install gensim"
      ],
      "execution_count": null,
      "outputs": [
        {
          "output_type": "stream",
          "text": [
            "Requirement already satisfied: gensim in /usr/local/lib/python3.6/dist-packages (3.6.0)\n",
            "Requirement already satisfied: scipy>=0.18.1 in /usr/local/lib/python3.6/dist-packages (from gensim) (1.1.0)\n",
            "Requirement already satisfied: numpy>=1.11.3 in /usr/local/lib/python3.6/dist-packages (from gensim) (1.14.6)\n",
            "Requirement already satisfied: smart-open>=1.2.1 in /usr/local/lib/python3.6/dist-packages (from gensim) (1.8.0)\n",
            "Requirement already satisfied: six>=1.5.0 in /usr/local/lib/python3.6/dist-packages (from gensim) (1.11.0)\n",
            "Requirement already satisfied: boto>=2.32 in /usr/local/lib/python3.6/dist-packages (from smart-open>=1.2.1->gensim) (2.49.0)\n",
            "Requirement already satisfied: bz2file in /usr/local/lib/python3.6/dist-packages (from smart-open>=1.2.1->gensim) (0.98)\n",
            "Requirement already satisfied: requests in /usr/local/lib/python3.6/dist-packages (from smart-open>=1.2.1->gensim) (2.18.4)\n",
            "Requirement already satisfied: boto3 in /usr/local/lib/python3.6/dist-packages (from smart-open>=1.2.1->gensim) (1.9.100)\n",
            "Requirement already satisfied: idna<2.7,>=2.5 in /usr/local/lib/python3.6/dist-packages (from requests->smart-open>=1.2.1->gensim) (2.6)\n",
            "Requirement already satisfied: chardet<3.1.0,>=3.0.2 in /usr/local/lib/python3.6/dist-packages (from requests->smart-open>=1.2.1->gensim) (3.0.4)\n",
            "Requirement already satisfied: urllib3<1.23,>=1.21.1 in /usr/local/lib/python3.6/dist-packages (from requests->smart-open>=1.2.1->gensim) (1.22)\n",
            "Requirement already satisfied: certifi>=2017.4.17 in /usr/local/lib/python3.6/dist-packages (from requests->smart-open>=1.2.1->gensim) (2018.11.29)\n",
            "Requirement already satisfied: jmespath<1.0.0,>=0.7.1 in /usr/local/lib/python3.6/dist-packages (from boto3->smart-open>=1.2.1->gensim) (0.9.3)\n",
            "Requirement already satisfied: botocore<1.13.0,>=1.12.100 in /usr/local/lib/python3.6/dist-packages (from boto3->smart-open>=1.2.1->gensim) (1.12.100)\n",
            "Requirement already satisfied: s3transfer<0.3.0,>=0.2.0 in /usr/local/lib/python3.6/dist-packages (from boto3->smart-open>=1.2.1->gensim) (0.2.0)\n",
            "Requirement already satisfied: python-dateutil<3.0.0,>=2.1; python_version >= \"2.7\" in /usr/local/lib/python3.6/dist-packages (from botocore<1.13.0,>=1.12.100->boto3->smart-open>=1.2.1->gensim) (2.5.3)\n",
            "Requirement already satisfied: docutils>=0.10 in /usr/local/lib/python3.6/dist-packages (from botocore<1.13.0,>=1.12.100->boto3->smart-open>=1.2.1->gensim) (0.14)\n"
          ],
          "name": "stdout"
        }
      ]
    },
    {
      "cell_type": "code",
      "metadata": {
        "id": "g9e22UeacQgk"
      },
      "source": [
        "import re\n",
        "from collections import Counter\n",
        "from requests import get\n",
        "from google.colab import files"
      ],
      "execution_count": null,
      "outputs": []
    },
    {
      "cell_type": "code",
      "metadata": {
        "id": "o1rjm7U91y1S"
      },
      "source": [
        "from tltk import nlp, corpus\n",
        "import gensim"
      ],
      "execution_count": null,
      "outputs": []
    },
    {
      "cell_type": "markdown",
      "metadata": {
        "id": "-rT4pf8P2z8n"
      },
      "source": [
        "## Chunk\n",
        "ตัดคำ, ประโยค(edu), PoS, NE รวบทั้งหมดในทีเดียว"
      ]
    },
    {
      "cell_type": "code",
      "metadata": {
        "id": "k6Hal7qa3BZ_"
      },
      "source": [
        "text = (\n",
        "    \"สำนักเขตจตุจักรชี้แจงว่า ได้นำป้ายประกาศเตือนปลิงไปปักตามแหล่งน้ำ ในเขตอำเภอเมือง \"\n",
        "    \"จังหวัดอ่างทอง หลังจากนายสุกิจ อายุ 65 ปี ถูกปลิงกัดแล้วไม่ได้ไปพบแพทย์\")"
      ],
      "execution_count": null,
      "outputs": []
    },
    {
      "cell_type": "code",
      "metadata": {
        "id": "IetYsf0Y2OIw",
        "outputId": "ac565163-5c15-4c2b-fee6-2a2404d7a5db",
        "colab": {
          "base_uri": "https://localhost:8080/",
          "height": 188
        }
      },
      "source": [
        "nlp.chunk(text)"
      ],
      "execution_count": null,
      "outputs": [
        {
          "output_type": "stream",
          "text": [
            "/usr/local/lib/python3.6/dist-packages/sklearn/base.py:311: UserWarning: Trying to unpickle estimator DictVectorizer from version 0.19.1 when using version 0.19.2. This might lead to breaking code or invalid results. Use at your own risk.\n",
            "  UserWarning)\n",
            "/usr/local/lib/python3.6/dist-packages/sklearn/base.py:311: UserWarning: Trying to unpickle estimator DecisionTreeClassifier from version 0.19.1 when using version 0.19.2. This might lead to breaking code or invalid results. Use at your own risk.\n",
            "  UserWarning)\n",
            "/usr/local/lib/python3.6/dist-packages/sklearn/base.py:311: UserWarning: Trying to unpickle estimator RandomForestClassifier from version 0.19.1 when using version 0.19.2. This might lead to breaking code or invalid results. Use at your own risk.\n",
            "  UserWarning)\n",
            "/usr/local/lib/python3.6/dist-packages/sklearn/base.py:311: UserWarning: Trying to unpickle estimator Pipeline from version 0.19.1 when using version 0.19.2. This might lead to breaking code or invalid results. Use at your own risk.\n",
            "  UserWarning)\n"
          ],
          "name": "stderr"
        },
        {
          "output_type": "execute_result",
          "data": {
            "text/plain": [
              "'<NEo>สำนัก/NOUN|เขต/NOUN|จตุจักร/PROPN|</NEo>ชี้แจง/VERB|ว่า/SCONJ|<s/>/SYM|ได้/AUX|นำ/VERB|ป้าย/NOUN|ประกาศ/VERB|เตือน/VERB|ปลิง/NOUN|ไป/VERB|ปัก/VERB|ตาม/ADP|แหล่ง/NOUN|น้ำ/NOUN|<u/>ใน/ADP|<NEl>เขต/NOUN|อำเภอ/NOUN|เมือง/NOUN|<s/>/SYM|จังหวัด/NOUN|อ่างทอง/PROPN|</NEl><u/>หลังจาก/SCONJ|<NEp>นาย/NOUN|สุ/PROPN|กิจ/NOUN|</NEp><s/>/SYM|อายุ/NOUN|<u/>65/X|<s/>/SYM|ปี/NOUN|<u/>ถูก/AUX|ปลิง/VERB|กัด/VERB|แล้ว/ADV|ไม่/PART|ได้/ADV|ไป/VERB|พบ/VERB|แพทย์/NOUN|<u/>'"
            ]
          },
          "metadata": {
            "tags": []
          },
          "execution_count": 7
        }
      ]
    },
    {
      "cell_type": "code",
      "metadata": {
        "id": "n6n_MHu14TMT",
        "outputId": "389f0d60-c518-4637-a32f-b6a96c32fae2",
        "colab": {
          "base_uri": "https://localhost:8080/",
          "height": 34
        }
      },
      "source": [
        "'<NEo>สำนัก/NOUN|เขต/NOUN|จตุจักร/PROPN|</NEo>'\n",
        "'ชี้แจง/VERB|ว่า/SCONJ|<s/>/SYM|ได้/AUX|นำ/VERB|ป้าย/NOUN|ประกาศ/VERB|เตือน/VERB|ปลิง/NOUN|'\n",
        "'ไป/VERB|ปัก/VERB|ตาม/ADP|แหล่ง/NOUN|น้ำ/NOUN|<u/>'\n",
        "'ใน/ADP|<NEl>เขต/NOUN|อำเภอ/NOUN|เมือง/NOUN|<s/>/SYM|จังหวัด/NOUN|อ่างทอง/PROPN|</NEl><u/>'\n",
        "'หลังจาก/SCONJ|<NEp>นาย/NOUN|สุ/PROPN|กิจ/NOUN|</NEp>'\n",
        "'<s/>/SYM|อายุ/NOUN|<u/>65/X|<s/>/SYM|ปี/NOUN|<u/>'\n",
        "'ถูก/AUX|ปลิง/VERB|กัด/VERB|แล้ว/ADV|ไม่/PART|ได้/ADV|ไป/VERB|พบ/VERB|แพทย์/NOUN|<u/>'"
      ],
      "execution_count": null,
      "outputs": [
        {
          "output_type": "execute_result",
          "data": {
            "text/plain": [
              "'ถูก/AUX|ปลิง/VERB|กัด/VERB|แล้ว/ADV|ไม่/PART|ได้/ADV|ไป/VERB|พบ/VERB|แพทย์/NOUN|<u/>'"
            ]
          },
          "metadata": {
            "tags": []
          },
          "execution_count": 8
        }
      ]
    },
    {
      "cell_type": "markdown",
      "metadata": {
        "id": "PktUX74C3eMW"
      },
      "source": [
        "สังเกตว่า &lt;NEo> กะ l, p จะคร่อมแบบไม่สวยเท่าไหร่\n",
        "\n",
        "&lt;u/> ก็ยังมีผิดบ้าง"
      ]
    },
    {
      "cell_type": "markdown",
      "metadata": {
        "id": "8R07YSSJ4MLQ"
      },
      "source": [
        "##NER\n",
        "เติม B-O, I-O ให้กับ chunk ที่ทำ PoS มาแล้ว"
      ]
    },
    {
      "cell_type": "code",
      "metadata": {
        "id": "gtVADcpQ2I5L"
      },
      "source": [
        "chunks = [('สำนัก', 'NOUN'), ('เขต', 'NOUN'), ('จตุจักร', 'PROPN'), ('ชี้แจง', 'VERB'), ('ว่า', 'SCONJ'), ('<s/>','PUNCT')]"
      ],
      "execution_count": null,
      "outputs": []
    },
    {
      "cell_type": "code",
      "metadata": {
        "id": "tJHmW4m-5rN8",
        "outputId": "0e08e1bb-077d-417e-dcde-98ef508f2b75",
        "colab": {
          "base_uri": "https://localhost:8080/",
          "height": 118
        }
      },
      "source": [
        "nlp.ner(chunks)  # O=Org, P=Person, L=Location"
      ],
      "execution_count": null,
      "outputs": [
        {
          "output_type": "execute_result",
          "data": {
            "text/plain": [
              "[('สำนัก', 'NOUN', 'B-O'),\n",
              " ('เขต', 'NOUN', 'I-O'),\n",
              " ('จตุจักร', 'PROPN', 'I-O'),\n",
              " ('ชี้แจง', 'VERB', 'O'),\n",
              " ('ว่า', 'SCONJ', 'O'),\n",
              " ('<s/>', 'PUNCT', 'O')]"
            ]
          },
          "metadata": {
            "tags": []
          },
          "execution_count": 8
        }
      ]
    },
    {
      "cell_type": "markdown",
      "metadata": {
        "id": "MCNJQz2-L0J2"
      },
      "source": [
        "ใช้ crf model ตาม [tutorial](http://sklearn-crfsuite.readthedocs.io/en/latest/tutorial.html) โดย train จาก corpus ขนาด 200,000 คำ ที่มี 7,354 entities"
      ]
    },
    {
      "cell_type": "markdown",
      "metadata": {
        "id": "E1-PM-H76Xaq"
      },
      "source": [
        "## PoS\n",
        "ทำทั้ง segment และ PoS โดยใช้ Universal PoS tags"
      ]
    },
    {
      "cell_type": "markdown",
      "metadata": {
        "id": "Cb_oSXy6M0eG"
      },
      "source": [
        "Default จะตัดคำด้วย word_segment(text, 'colloc') ก่อน แต่สามารถเลือกให้ option='mm' ก็ได้\n",
        "\n",
        "ใช้ nltk.tag.perceptron มา train กับ บางส่วนของ TNC ที่ทำ pos-tag แล้ว (148,000 words)"
      ]
    },
    {
      "cell_type": "code",
      "metadata": {
        "id": "MBAQ9pk05vJr",
        "outputId": "3f91ccb7-b68d-4afa-ebe7-903f95524b1e",
        "colab": {
          "base_uri": "https://localhost:8080/",
          "height": 218
        }
      },
      "source": [
        "nlp.pos_tag('โปรแกรมสำหรับประมวลผลภาษาไทย วันนี้ใช้งานได้แล้ว')"
      ],
      "execution_count": null,
      "outputs": [
        {
          "output_type": "execute_result",
          "data": {
            "text/plain": [
              "[[('โปรแกรม', 'NOUN'),\n",
              "  ('สำหรับ', 'ADP'),\n",
              "  ('ประมวล', 'VERB'),\n",
              "  ('ผล', 'NOUN'),\n",
              "  ('ภาษา', 'NOUN'),\n",
              "  ('ไทย', 'PROPN'),\n",
              "  ('<s/>', 'PUNCT')],\n",
              " [('วันนี้', 'NOUN'),\n",
              "  ('ใช้งาน', 'VERB'),\n",
              "  ('ได้', 'ADV'),\n",
              "  ('แล้ว', 'ADV'),\n",
              "  ('<s/>', 'PUNCT')]]"
            ]
          },
          "metadata": {
            "tags": []
          },
          "execution_count": 5
        }
      ]
    },
    {
      "cell_type": "code",
      "metadata": {
        "id": "_gC7IFuW6eAk",
        "outputId": "6112fa83-c8a3-4ea9-ac1c-17ff84f8d7f1",
        "colab": {
          "base_uri": "https://localhost:8080/",
          "height": 118
        }
      },
      "source": [
        "# หรือรับ wordlist ที่ตัดมาแล้วก็ได้\n",
        "nlp.pos_tag_wordlist('โปรแกรม สำหรับ ประมวล ผล ภาษา ไทย'.split())"
      ],
      "execution_count": null,
      "outputs": [
        {
          "output_type": "execute_result",
          "data": {
            "text/plain": [
              "[('โปรแกรม', 'NOUN'),\n",
              " ('สำหรับ', 'ADP'),\n",
              " ('ประมวล', 'VERB'),\n",
              " ('ผล', 'NOUN'),\n",
              " ('ภาษา', 'NOUN'),\n",
              " ('ไทย', 'PROPN')]"
            ]
          },
          "metadata": {
            "tags": []
          },
          "execution_count": 6
        }
      ]
    },
    {
      "cell_type": "markdown",
      "metadata": {
        "id": "1aUa0pNVHs33"
      },
      "source": [
        "### ดู tagger"
      ]
    },
    {
      "cell_type": "code",
      "metadata": {
        "id": "Hdo8pS_aHwOc"
      },
      "source": [
        "# อยากรู้ว่า ข้างใน มีเก็บข้อมูลอะไรไว้บ้าง\n",
        "tg = nlp.tagger"
      ],
      "execution_count": null,
      "outputs": []
    },
    {
      "cell_type": "code",
      "metadata": {
        "id": "SYea7S7wINan",
        "outputId": "9dc91b5f-5a8f-42fb-a18d-eeae4d6d234f",
        "colab": {
          "base_uri": "https://localhost:8080/",
          "height": 34
        }
      },
      "source": [
        "len(tg.tagdict)  # คำที่ใช้ lookup เอาเลย มี 611 คำ (ไม่นับ rare word)\n"
      ],
      "execution_count": null,
      "outputs": [
        {
          "output_type": "execute_result",
          "data": {
            "text/plain": [
              "611"
            ]
          },
          "metadata": {
            "tags": []
          },
          "execution_count": 11
        }
      ]
    },
    {
      "cell_type": "code",
      "metadata": {
        "id": "2ctbgj8zH0dv",
        "outputId": "4ef03f85-b17d-49ff-b72d-4d0b05070314",
        "colab": {
          "base_uri": "https://localhost:8080/",
          "height": 319
        }
      },
      "source": [
        "tg.classes"
      ],
      "execution_count": null,
      "outputs": [
        {
          "output_type": "execute_result",
          "data": {
            "text/plain": [
              "{'?',\n",
              " 'ADJ',\n",
              " 'ADP',\n",
              " 'ADV',\n",
              " 'AUX',\n",
              " 'CCONJ',\n",
              " 'DET',\n",
              " 'INTJ',\n",
              " 'NOUN',\n",
              " 'NUM',\n",
              " 'PART',\n",
              " 'PRON',\n",
              " 'PROPN',\n",
              " 'PUNCT',\n",
              " 'SCONJ',\n",
              " 'SYM',\n",
              " 'VERB',\n",
              " 'X'}"
            ]
          },
          "metadata": {
            "tags": []
          },
          "execution_count": 12
        }
      ]
    },
    {
      "cell_type": "code",
      "metadata": {
        "id": "hnbvhXeZH0Tj",
        "outputId": "53c11d5e-341d-4bea-8326-16644b59ebbc",
        "colab": {
          "base_uri": "https://localhost:8080/",
          "height": 34
        }
      },
      "source": [
        "w = tg.model.weights\n",
        "len(w) # ข้อมูลสำคัญอยู่ตรงนี้"
      ],
      "execution_count": null,
      "outputs": [
        {
          "output_type": "execute_result",
          "data": {
            "text/plain": [
              "38158"
            ]
          },
          "metadata": {
            "tags": []
          },
          "execution_count": 14
        }
      ]
    },
    {
      "cell_type": "code",
      "metadata": {
        "id": "PdTxmUftMyYn",
        "outputId": "410e9060-56bc-4086-d266-40ad10dc2484",
        "colab": {
          "base_uri": "https://localhost:8080/",
          "height": 353
        }
      },
      "source": [
        "fts = list(w.keys())\n",
        "fts[:20]  # ตัวอย่าง features"
      ],
      "execution_count": null,
      "outputs": [
        {
          "output_type": "execute_result",
          "data": {
            "text/plain": [
              "['bias',\n",
              " 'i suffix สาว',\n",
              " 'i pref1 น',\n",
              " 'i-1 tag -START-',\n",
              " 'i-2 tag -START2-',\n",
              " 'i tag+i-2 tag -START- -START2-',\n",
              " 'i word นางสาว',\n",
              " 'i-1 tag+i word -START- นางสาว',\n",
              " 'i-1 word -START2-',\n",
              " 'i-1 suffix T2-',\n",
              " 'i-2 word -START-',\n",
              " 'i+1 word อรวรรยา',\n",
              " 'i+1 suffix รยา',\n",
              " 'i+2 word <sp/>',\n",
              " 'i suffix รยา',\n",
              " 'i pref1 อ',\n",
              " 'i-1 tag X',\n",
              " 'i-2 tag -START-',\n",
              " 'i tag+i-2 tag X -START-',\n",
              " 'i word อรวรรยา']"
            ]
          },
          "metadata": {
            "tags": []
          },
          "execution_count": 33
        }
      ]
    },
    {
      "cell_type": "code",
      "metadata": {
        "id": "gkaqiig7M5X1",
        "outputId": "14f93622-abf9-49a3-e001-85599f6928fe",
        "colab": {
          "base_uri": "https://localhost:8080/",
          "height": 370
        }
      },
      "source": [
        "# นับคำที่เอาไปใช้ใน features\n",
        "cnt = Counter()\n",
        "for ft in fts:\n",
        "  word = ft.split()[-1]\n",
        "  if re.fullmatch(r'[ก-๙]+', word): # ถ้าเป็นคำไทย\n",
        "    cnt[word] += 1\n",
        "\n",
        "print(len(cnt))\n",
        "cnt.most_common(20)"
      ],
      "execution_count": null,
      "outputs": [
        {
          "output_type": "stream",
          "text": [
            "8455\n"
          ],
          "name": "stdout"
        },
        {
          "output_type": "execute_result",
          "data": {
            "text/plain": [
              "[('ที่', 27),\n",
              " ('ให้', 23),\n",
              " ('ถึง', 23),\n",
              " ('แล้ว', 23),\n",
              " ('ได้', 22),\n",
              " ('ทุก', 22),\n",
              " ('ไป', 22),\n",
              " ('ตาม', 22),\n",
              " ('ของ', 21),\n",
              " ('คือ', 21),\n",
              " ('มา', 21),\n",
              " ('แต่', 21),\n",
              " ('กับ', 21),\n",
              " ('ดี', 21),\n",
              " ('ทาง', 21),\n",
              " ('มาก', 21),\n",
              " ('ถูก', 20),\n",
              " ('เลย', 20),\n",
              " ('ทั้ง', 20),\n",
              " ('อีก', 20)]"
            ]
          },
          "metadata": {
            "tags": []
          },
          "execution_count": 34
        }
      ]
    },
    {
      "cell_type": "markdown",
      "metadata": {
        "id": "dakwPzCA26Ys"
      },
      "source": [
        "## Segmentation"
      ]
    },
    {
      "cell_type": "markdown",
      "metadata": {
        "id": "j9e_MIpI9Bmp"
      },
      "source": [
        "### segment"
      ]
    },
    {
      "cell_type": "code",
      "metadata": {
        "id": "hXIwlj6g63he",
        "outputId": "4936a179-82c8-4a7b-e9f1-8da827e4bfdf",
        "colab": {
          "base_uri": "https://localhost:8080/",
          "height": 322
        }
      },
      "source": [
        "# ตัดคำ และตัดประโยค (edu)\n",
        "s = nlp.segment(\"แต่อาจเพราะนกกินปลีอกเหลืองเป็นพ่อแม่มือใหม่ รังที่ทำจึงไม่ค่อยแข็งแรง \"\n",
        "            \"วันหนึ่งรังก็ฉีกเกือบขาดเป็นสองท่อนห้อยต่องแต่ง ผมพยายามหาอุปกรณ์มายึดรังกลับคืนรูปทรงเดิม \"\n",
        "            \"ขณะที่แม่นกกินปลีอกเหลืองส่งเสียงโวยวายอยู่ใกล้ ๆ แต่สุดท้ายไม่สำเร็จ \"\n",
        "            \"สองสามวันต่อมารังที่ช่วยซ่อมก็พังไป ไม่เห็นแม่นกบินกลับมาอีกเลย\")\n",
        "s.split('/>')"
      ],
      "execution_count": null,
      "outputs": [
        {
          "output_type": "stream",
          "text": [
            "/usr/local/lib/python3.6/dist-packages/sklearn/base.py:311: UserWarning: Trying to unpickle estimator DictVectorizer from version 0.19.1 when using version 0.19.2. This might lead to breaking code or invalid results. Use at your own risk.\n",
            "  UserWarning)\n",
            "/usr/local/lib/python3.6/dist-packages/sklearn/base.py:311: UserWarning: Trying to unpickle estimator DecisionTreeClassifier from version 0.19.1 when using version 0.19.2. This might lead to breaking code or invalid results. Use at your own risk.\n",
            "  UserWarning)\n",
            "/usr/local/lib/python3.6/dist-packages/sklearn/base.py:311: UserWarning: Trying to unpickle estimator RandomForestClassifier from version 0.19.1 when using version 0.19.2. This might lead to breaking code or invalid results. Use at your own risk.\n",
            "  UserWarning)\n",
            "/usr/local/lib/python3.6/dist-packages/sklearn/base.py:311: UserWarning: Trying to unpickle estimator Pipeline from version 0.19.1 when using version 0.19.2. This might lead to breaking code or invalid results. Use at your own risk.\n",
            "  UserWarning)\n"
          ],
          "name": "stderr"
        },
        {
          "output_type": "execute_result",
          "data": {
            "text/plain": [
              "['แต่|อาจ|เพราะ|นกกินปลีอกเหลือง|เป็น|พ่อแม่|มือใหม่|<s',\n",
              " '|รัง|ที่|ทำ|จึง|ไม่ค่อย|แข็งแรง<u',\n",
              " 'วัน|หนึ่ง|รัง|ก็|ฉีก|เกือบ|ขาด|เป็น|สอง|ท่อน|ห้อ|ยต่อง|แต่ง<u',\n",
              " 'ผม|พยายาม|หา|อุปกรณ์|มา|ยึด|รัง|กลับคืน|รูปทรง|เดิม<u',\n",
              " 'ขณะ|ที่|แม่|นกกินปลีอกเหลือง|ส่งเสียง|โวยวาย|อยู่|ใกล้|ๆ<u',\n",
              " 'แต่|สุดท้าย|ไม่|สำเร็จ|<s',\n",
              " '|สอง|สาม|วัน|ต่อมา|รัง|ที่|ช่วย|ซ่อม|ก็|พัง|ไป<u',\n",
              " 'ไม่|เห็น|แม่|นก|บิน|กลับ|มา|อีก|เลย<u',\n",
              " '']"
            ]
          },
          "metadata": {
            "tags": []
          },
          "execution_count": 22
        }
      ]
    },
    {
      "cell_type": "markdown",
      "metadata": {
        "id": "0uVz8zpk2_9z"
      },
      "source": [
        "### word_segment"
      ]
    },
    {
      "cell_type": "code",
      "metadata": {
        "id": "XKvB9lli9J58",
        "outputId": "5e1df358-4b1e-4558-e222-ddc02e7aa33a",
        "colab": {
          "base_uri": "https://localhost:8080/",
          "height": 34
        }
      },
      "source": [
        "# ตัดคำอย่างเดียว\n",
        "text = 'โปรแกรมสำหรับประมวลผลภาษาไทย'\n",
        "nlp.word_segment(text)    # maximum collocation"
      ],
      "execution_count": null,
      "outputs": [
        {
          "output_type": "execute_result",
          "data": {
            "text/plain": [
              "'โปรแกรม|สำหรับ|ประมวลผล|ภาษาไทย|<s/>'"
            ]
          },
          "metadata": {
            "tags": []
          },
          "execution_count": 25
        }
      ]
    },
    {
      "cell_type": "code",
      "metadata": {
        "id": "zT0bmyD0PiaK",
        "outputId": "ac33b6cd-06ed-4b7d-d72a-b67fda87223e",
        "colab": {
          "base_uri": "https://localhost:8080/",
          "height": 34
        }
      },
      "source": [
        "# เลือก method ได้ 3 แบบ: colloc, mm, ngram\n",
        "# กรณีใช้ ngram จะทำ spell check ได้ด้วย\n",
        "\n",
        "nlp.word_segment('ผู้สือข่าวรายงานว่านายกรัฐนตรีไม่มาทำงานที่ทำเนียบรัฐบาล',\n",
        "                 method='ngram', spellchk='yes')"
      ],
      "execution_count": null,
      "outputs": [
        {
          "output_type": "execute_result",
          "data": {
            "text/plain": [
              "'ผู้สื่อข่าว|รายงาน|ว่า|นายก|รัฐมนตรี|ไม่|มา|ทำงาน|ที่|ทำเนียบรัฐบาล|<s/>'"
            ]
          },
          "metadata": {
            "tags": []
          },
          "execution_count": 33
        }
      ]
    },
    {
      "cell_type": "code",
      "metadata": {
        "id": "PcozDlvP4B7S",
        "outputId": "fbe46f1c-b181-448d-f654-a8950fe95008",
        "colab": {
          "base_uri": "https://localhost:8080/",
          "height": 34
        }
      },
      "source": [
        "# maximal matching\n",
        "nlp.word_segment_mm(text)"
      ],
      "execution_count": null,
      "outputs": [
        {
          "output_type": "execute_result",
          "data": {
            "text/plain": [
              "'โปรแกรม|สำหรับ|ประมวลผล|ภาษาไทย|<s/>'"
            ]
          },
          "metadata": {
            "tags": []
          },
          "execution_count": 26
        }
      ]
    },
    {
      "cell_type": "code",
      "metadata": {
        "id": "vQZCXnY24Z5t",
        "outputId": "70b41880-dbd4-4604-e1a7-c8c0b43ea707",
        "colab": {
          "base_uri": "https://localhost:8080/",
          "height": 185
        }
      },
      "source": [
        "# MM with N-best\n",
        "nlp.word_segment_nbest('คนขับรถประจำทางหลวง',10)"
      ],
      "execution_count": null,
      "outputs": [
        {
          "output_type": "execute_result",
          "data": {
            "text/plain": [
              "[['คนขับรถ|ประจำ|ทางหลวง',\n",
              "  'คนขับ|รถประจำทาง|หลวง',\n",
              "  'คนขับรถ|ประจำทาง|หลวง',\n",
              "  'คน|ขับรถ|ประจำ|ทางหลวง',\n",
              "  'คนขับ|รถ|ประจำ|ทางหลวง',\n",
              "  'คนขับรถ|ประ|จำ|ทางหลวง',\n",
              "  'คน|ขับ|รถประจำทาง|หลวง',\n",
              "  'คน|ขับรถ|ประจำทาง|หลวง',\n",
              "  'คนขับ|รถ|ประจำทาง|หลวง',\n",
              "  'คนขับรถ|ประจำ|ทาง|หลวง']]"
            ]
          },
          "metadata": {
            "tags": []
          },
          "execution_count": 12
        }
      ]
    },
    {
      "cell_type": "markdown",
      "metadata": {
        "id": "yRILYOgn3sJi"
      },
      "source": [
        "### syllable & pronunciation"
      ]
    },
    {
      "cell_type": "code",
      "metadata": {
        "id": "qf7RJAhQ5B8f",
        "outputId": "2e9afb32-9401-4385-e63b-5747534062f0",
        "colab": {
          "base_uri": "https://localhost:8080/",
          "height": 54
        }
      },
      "source": [
        "# ตัดคำ, พยางค์, และได้เสียงอ่านด้วย\n",
        "nlp.g2p(\"สถาบันอุดมศึกษาไม่สามารถก้าวให้ทันการเปลี่ยนแปลงของตลาดแรงงาน\")"
      ],
      "execution_count": null,
      "outputs": [
        {
          "output_type": "execute_result",
          "data": {
            "text/plain": [
              "\"สถา~บัน|อุ~ดม~ศึก~ษา|ไม่|สา~มารถ|ก้าว|ให้|ทัน|การ|เปลี่ยน~แปลง|ของ|ตลาด|แรง~งาน<tr/>sa1'thaa4~ban0|?u1~dom0~sUk1~saa4|maj2|saa4~maat2|kaaw2|haj2|than0|kaan0|pliian1~plxxN0|khOON4|ta1'laat1|rxxN0~Naan0|<s/>\""
            ]
          },
          "metadata": {
            "tags": []
          },
          "execution_count": 9
        }
      ]
    },
    {
      "cell_type": "code",
      "metadata": {
        "id": "VWlMl3Uc3Te8",
        "outputId": "61b38ca9-3178-4793-a8df-fad28ca5657b",
        "colab": {
          "base_uri": "https://localhost:8080/",
          "height": 34
        }
      },
      "source": [
        "# just syllable\n",
        "nlp.syl_segment('โปรแกรมสำหรับประมวลผลภาษาไทย')"
      ],
      "execution_count": null,
      "outputs": [
        {
          "output_type": "execute_result",
          "data": {
            "text/plain": [
              "'โปร~แกรม~สำ~หรับ~ประ~มวล~ผล~ภา~ษา~ไทย~<s/>'"
            ]
          },
          "metadata": {
            "tags": []
          },
          "execution_count": 13
        }
      ]
    },
    {
      "cell_type": "code",
      "metadata": {
        "id": "nXgpYBBz5hzA",
        "outputId": "7fd0ff39-b161-4800-80c7-974e5ab7e111",
        "colab": {
          "base_uri": "https://localhost:8080/",
          "height": 34
        }
      },
      "source": [
        "# เสียงอ่าน เป็น IPA\n",
        "nlp.th2ipa(\"ลงแม่น้ำรอเดินไปหาปลา\")"
      ],
      "execution_count": null,
      "outputs": [
        {
          "output_type": "execute_result",
          "data": {
            "text/plain": [
              "'loŋ0|mɛɛ2~naam3|rᴐᴐ0|dəən0|paj0|haa4|plaa0|<s/>'"
            ]
          },
          "metadata": {
            "tags": []
          },
          "execution_count": 15
        }
      ]
    },
    {
      "cell_type": "code",
      "metadata": {
        "id": "caGw-6UG5yLL",
        "outputId": "53b6e9fb-bb6f-41fa-898c-df60d9ef87a5",
        "colab": {
          "base_uri": "https://localhost:8080/",
          "height": 34
        }
      },
      "source": [
        "# เสียงอ่าน แบบราชบัณฑิต ไม่มีสระสั้น-ยาว ไม่มีวรรณยุกต์\n",
        "nlp.th2roman(\"คือเขาเดินเลยลงไปรอในแม่น้ำสะอาดไปหามะปราง\")"
      ],
      "execution_count": null,
      "outputs": [
        {
          "output_type": "execute_result",
          "data": {
            "text/plain": [
              "'khue khaw doen loei long pai ro nai maenam sa-at pai ha maprang <s/>'"
            ]
          },
          "metadata": {
            "tags": []
          },
          "execution_count": 16
        }
      ]
    },
    {
      "cell_type": "code",
      "metadata": {
        "id": "qLnaiygI2gBA",
        "outputId": "c45a21d9-f098-4fc1-ad3e-b7b2563f9d56",
        "colab": {
          "base_uri": "https://localhost:8080/",
          "height": 67
        }
      },
      "source": [
        "# กรณีตัดคำได้หลายแบบ แสดงเสียงอ่านทุกแบบ  แต่อาจไม่เหมือน ipa\n",
        "nlp.g2p_all(\"รอยกร่าง\")"
      ],
      "execution_count": null,
      "outputs": [
        {
          "output_type": "execute_result",
          "data": {
            "text/plain": [
              "[('รอย~กร่าง', 'rᴐːj1.ka2.raːŋ2'),\n",
              " ('รอย~กร่าง', 'rᴐːj1.kraːŋ2'),\n",
              " ('รอ~ยก~ร่าง', 'rᴐː1.jok4.raːŋ3')]"
            ]
          },
          "metadata": {
            "tags": []
          },
          "execution_count": 11
        }
      ]
    },
    {
      "cell_type": "markdown",
      "metadata": {
        "id": "aSM5pYDh34nF"
      },
      "source": [
        "## Spell check"
      ]
    },
    {
      "cell_type": "code",
      "metadata": {
        "id": "DK6tw-jZ3vB6",
        "outputId": "7cd966e7-2206-4719-8386-671b6b2f97dc",
        "colab": {
          "base_uri": "https://localhost:8080/",
          "height": 34
        }
      },
      "source": [
        "# คิดจาก edit distance (ตาม Norvig)\n",
        "nlp.spell_candidates('รักษ')"
      ],
      "execution_count": null,
      "outputs": [
        {
          "output_type": "execute_result",
          "data": {
            "text/plain": [
              "['รัก', 'ทักษ', 'รักษา', 'รักษ์']"
            ]
          },
          "metadata": {
            "tags": []
          },
          "execution_count": 5
        }
      ]
    },
    {
      "cell_type": "markdown",
      "metadata": {
        "id": "7WtW1EV6eT3I"
      },
      "source": [
        "### Dict management"
      ]
    },
    {
      "cell_type": "markdown",
      "metadata": {
        "id": "ctl6jVBpeW1l"
      },
      "source": [
        "มีผลต่อการตัดคำ และ spellcheck\n",
        "- nlp.reset_thaidict() : clear dictionary content setup.cfg\n",
        "- nlp.read_thaidict(DictFile) : add a new dictionary e.g. nlp.read_thaidict('BEST.dict')\n",
        "- nlp.check_thaidict(Word) : check whether Word exists in the dictionary"
      ]
    },
    {
      "cell_type": "markdown",
      "metadata": {
        "id": "KuAPjWGlciUr"
      },
      "source": [
        "# Corpus"
      ]
    },
    {
      "cell_type": "markdown",
      "metadata": {
        "id": "y2ch9AqAclML"
      },
      "source": [
        "## Download"
      ]
    },
    {
      "cell_type": "code",
      "metadata": {
        "id": "H14Q9sq2cm4U",
        "outputId": "e1f581c2-6ae7-4901-fc16-98f973c5b1a6",
        "colab": {
          "base_uri": "https://localhost:8080/",
          "height": 202
        }
      },
      "source": [
        "!wget http://www.arts.chula.ac.th/ling/wp-content/uploads/tnc201705_3gram.zip"
      ],
      "execution_count": null,
      "outputs": [
        {
          "output_type": "stream",
          "text": [
            "--2018-05-24 04:40:16--  http://www.arts.chula.ac.th/ling/wp-content/uploads/tnc201705_3gram.zip\n",
            "Resolving www.arts.chula.ac.th (www.arts.chula.ac.th)... 161.200.48.9\n",
            "Connecting to www.arts.chula.ac.th (www.arts.chula.ac.th)|161.200.48.9|:80... connected.\n",
            "HTTP request sent, awaiting response... 200 OK\n",
            "Length: 30896988 (29M) [application/zip]\n",
            "Saving to: ‘tnc201705_3gram.zip’\n",
            "\n",
            "tnc201705_3gram.zip 100%[===================>]  29.46M  8.60MB/s    in 3.4s    \n",
            "\n",
            "2018-05-24 04:40:21 (8.60 MB/s) - ‘tnc201705_3gram.zip’ saved [30896988/30896988]\n",
            "\n"
          ],
          "name": "stdout"
        }
      ]
    },
    {
      "cell_type": "code",
      "metadata": {
        "id": "EqBLyufScqI6",
        "outputId": "023edd1d-222d-47e0-fda2-46c88319e848",
        "colab": {
          "base_uri": "https://localhost:8080/",
          "height": 118
        }
      },
      "source": [
        "!zipinfo tnc201705_3gram.zip"
      ],
      "execution_count": null,
      "outputs": [
        {
          "output_type": "stream",
          "text": [
            "Archive:  tnc201705_3gram.zip\r\n",
            "Zip file size: 30896988 bytes, number of entries: 3\r\n",
            "-rw-r--r--  2.1 unx 151914848 bX defN 17-Jun-23 06:18 201705_3gram.txt\r\n",
            "drwxrwxr-x  2.1 unx        0 bx stor 17-Aug-17 15:40 __MACOSX/\r\n",
            "-rw-r--r--  2.1 unx      239 bX defN 17-Jun-23 06:18 __MACOSX/._201705_3gram.txt\r\n",
            "3 files, 151915087 bytes uncompressed, 30896518 bytes compressed:  79.7%\r\n"
          ],
          "name": "stdout"
        }
      ]
    },
    {
      "cell_type": "code",
      "metadata": {
        "id": "XbLYgsdZcuHr",
        "outputId": "a4539a53-347f-4488-bd73-6976d0b86dbf",
        "colab": {
          "base_uri": "https://localhost:8080/",
          "height": 50
        }
      },
      "source": [
        "!unzip tnc201705_3gram.zip 201705_3gram.txt"
      ],
      "execution_count": null,
      "outputs": [
        {
          "output_type": "stream",
          "text": [
            "Archive:  tnc201705_3gram.zip\n",
            "  inflating: 201705_3gram.txt        \n"
          ],
          "name": "stdout"
        }
      ]
    },
    {
      "cell_type": "code",
      "metadata": {
        "id": "Nv4JK30YcTqI",
        "outputId": "e6cd9cfe-3b0a-4c4c-bcf8-caca0a2e9365",
        "colab": {
          "base_uri": "https://localhost:8080/",
          "height": 202
        }
      },
      "source": [
        "# TNC.3g\n",
        "!wget http://www.arts.chula.ac.th/ling/wp-content/uploads/TNC.3g.zip"
      ],
      "execution_count": null,
      "outputs": [
        {
          "output_type": "stream",
          "text": [
            "--2018-10-16 08:32:55--  http://www.arts.chula.ac.th/ling/wp-content/uploads/TNC.3g.zip\n",
            "Resolving www.arts.chula.ac.th (www.arts.chula.ac.th)... 161.200.48.9\n",
            "Connecting to www.arts.chula.ac.th (www.arts.chula.ac.th)|161.200.48.9|:80... connected.\n",
            "HTTP request sent, awaiting response... 200 OK\n",
            "Length: 101809038 (97M) [application/zip]\n",
            "Saving to: ‘TNC.3g.zip’\n",
            "\n",
            "TNC.3g.zip          100%[===================>]  97.09M  10.4MB/s    in 11s     \n",
            "\n",
            "2018-10-16 08:33:07 (8.67 MB/s) - ‘TNC.3g.zip’ saved [101809038/101809038]\n",
            "\n"
          ],
          "name": "stdout"
        }
      ]
    },
    {
      "cell_type": "code",
      "metadata": {
        "id": "vRwvDKfscjE4",
        "outputId": "4300cc9c-bbde-4b64-e564-1cb457a0f34d",
        "colab": {
          "base_uri": "https://localhost:8080/",
          "height": 50
        }
      },
      "source": [
        "!unzip TNC.3g.zip TNC.3g"
      ],
      "execution_count": null,
      "outputs": [
        {
          "output_type": "stream",
          "text": [
            "Archive:  TNC.3g.zip\n",
            "  inflating: TNC.3g                  \n"
          ],
          "name": "stdout"
        }
      ]
    },
    {
      "cell_type": "markdown",
      "metadata": {
        "id": "v8m4pKdrdND6"
      },
      "source": [
        "## Load and query"
      ]
    },
    {
      "cell_type": "code",
      "metadata": {
        "id": "z-cRMrCocxj6",
        "outputId": "2f4836dc-9459-4ec2-cef1-4ebe701273fa",
        "colab": {
          "base_uri": "https://localhost:8080/",
          "height": 34
        }
      },
      "source": [
        "# corpus.trigram_load('201705_3gram.txt')\n",
        "corpus.TNC_load()"
      ],
      "execution_count": null,
      "outputs": [
        {
          "output_type": "execute_result",
          "data": {
            "text/plain": [
              "1"
            ]
          },
          "metadata": {
            "tags": []
          },
          "execution_count": 9
        }
      ]
    },
    {
      "cell_type": "code",
      "metadata": {
        "id": "jal8X1HZdPDN",
        "outputId": "54722f12-29f3-4688-9cf2-e8693e25820b",
        "colab": {
          "base_uri": "https://localhost:8080/",
          "height": 34
        }
      },
      "source": [
        "corpus.unigram('นก')   # frequency/million"
      ],
      "execution_count": null,
      "outputs": [
        {
          "output_type": "execute_result",
          "data": {
            "text/plain": [
              "141.86488203001073"
            ]
          },
          "metadata": {
            "tags": []
          },
          "execution_count": 18
        }
      ]
    },
    {
      "cell_type": "code",
      "metadata": {
        "id": "VN47D5RGdVTG",
        "outputId": "5498ac41-6e6c-4efb-a72f-94aec05254d6",
        "colab": {
          "base_uri": "https://localhost:8080/",
          "height": 34
        }
      },
      "source": [
        "corpus.bigram('นก','บิน')"
      ],
      "execution_count": null,
      "outputs": [
        {
          "output_type": "execute_result",
          "data": {
            "text/plain": [
              "1.8751840024302384"
            ]
          },
          "metadata": {
            "tags": []
          },
          "execution_count": 19
        }
      ]
    },
    {
      "cell_type": "code",
      "metadata": {
        "id": "K-SBiu1ddY_K",
        "outputId": "6f34e529-17d5-447e-93e2-0796353ae979",
        "colab": {
          "base_uri": "https://localhost:8080/",
          "height": 34
        }
      },
      "source": [
        "corpus.trigram('นก', 'บิน', 'ไป')"
      ],
      "execution_count": null,
      "outputs": [
        {
          "output_type": "execute_result",
          "data": {
            "text/plain": [
              "0.09616328217590966"
            ]
          },
          "metadata": {
            "tags": []
          },
          "execution_count": 20
        }
      ]
    },
    {
      "cell_type": "code",
      "metadata": {
        "id": "JDbX-m_Zd8mW",
        "outputId": "cd9fab6c-0ce8-4679-d0c3-ebd7e5e69109",
        "colab": {
          "base_uri": "https://localhost:8080/",
          "height": 185
        }
      },
      "source": [
        "# corpus.collocates(w,STAT,DIR,SPAN,LIMIT,MINFQ)\n",
        "### return all collocates of w, STAT = {freq,mi,chi2}\n",
        "# DIR={left,right,both} SPAN={1,2}\n",
        "# LIMIT is the number of top collocates\n",
        "# MINFQ is the minimum raw frequency of bigram w-x or x-w.\n",
        "# The output is a list of tuples ((w1,w2), stat)\n",
        "corpus.collocates('นก', stat='freq', direct='right', span=2, limit=10, minfq=5)"
      ],
      "execution_count": null,
      "outputs": [
        {
          "output_type": "execute_result",
          "data": {
            "text/plain": [
              "[(('นก', '<s>'), 21.059758796524218),\n",
              " (('นก', 'เงือก'), 7.981552420600503),\n",
              " (('นก', 'ปากห่าง'), 3.8946129281243413),\n",
              " (('นก', 'ที่'), 2.9089392858212673),\n",
              " (('นก', 'นี้'), 2.3560004133097867),\n",
              " (('นก', 'อินทรี'), 2.259837131133877),\n",
              " (('นก', 'ตัว'), 2.13963302841399),\n",
              " (('นก', 'บิน'), 2.091551387326035),\n",
              " (('นก', 'เป็น'), 1.9713472846061482),\n",
              " (('นก', 'กระเรียน'), 1.9473064640621707)]"
            ]
          },
          "metadata": {
            "tags": []
          },
          "execution_count": 33
        }
      ]
    },
    {
      "cell_type": "markdown",
      "metadata": {
        "id": "p4ZraeSogHRL"
      },
      "source": [
        "## Word Vector"
      ]
    },
    {
      "cell_type": "code",
      "metadata": {
        "id": "M6Ue0-9BfwAr"
      },
      "source": [
        "!wget -q http://www.arts.chula.ac.th/ling/wp-content/uploads/TNCc5model.bin"
      ],
      "execution_count": null,
      "outputs": []
    },
    {
      "cell_type": "markdown",
      "metadata": {
        "id": "UEtspuWglza3"
      },
      "source": [
        "### Follow example"
      ]
    },
    {
      "cell_type": "code",
      "metadata": {
        "id": "Enk1Ofd_gL28",
        "outputId": "fc7da182-9749-4de3-aba7-19082a28fd8f",
        "colab": {
          "base_uri": "https://localhost:8080/",
          "height": 36
        }
      },
      "source": [
        "corpus.w2v_load()"
      ],
      "execution_count": null,
      "outputs": [
        {
          "output_type": "execute_result",
          "data": {
            "text/plain": [
              "1"
            ]
          },
          "metadata": {
            "tags": []
          },
          "execution_count": 6
        }
      ]
    },
    {
      "cell_type": "code",
      "metadata": {
        "id": "o8QYcw8egLxw",
        "outputId": "2a42a397-0f8d-4317-9aec-842d100d1b68",
        "colab": {
          "base_uri": "https://localhost:8080/",
          "height": 34
        }
      },
      "source": [
        "# มีคำนี้อยู่ไหม\n",
        "corpus.w2v_exist('อาหาร')"
      ],
      "execution_count": null,
      "outputs": [
        {
          "output_type": "execute_result",
          "data": {
            "text/plain": [
              "True"
            ]
          },
          "metadata": {
            "tags": []
          },
          "execution_count": 13
        }
      ]
    },
    {
      "cell_type": "code",
      "metadata": {
        "id": "s8y6oYRj3xAX",
        "outputId": "bc23bd76-0725-41c0-f7a2-ba415c375bd0",
        "colab": {
          "base_uri": "https://localhost:8080/",
          "height": 454
        }
      },
      "source": [
        "# แปลงเป็น vector\n",
        "corpus.w2v('อาหาร')"
      ],
      "execution_count": null,
      "outputs": [
        {
          "output_type": "execute_result",
          "data": {
            "text/plain": [
              "array([ 4.3417077e+00,  2.7017918e+00,  2.4149504e+00, -1.3729613e+00,\n",
              "        1.2849796e+00, -3.1696767e-01,  1.6111651e-01, -8.4592506e-02,\n",
              "       -1.3102694e+00,  2.1613088e+00, -4.5822494e-02,  9.2299187e-01,\n",
              "        4.8927337e-01, -2.7081797e+00, -1.5683790e+00, -3.5793822e+00,\n",
              "        1.1854382e+00,  1.2072237e+00, -2.8199282e+00,  8.1384224e-01,\n",
              "       -9.5724291e-01, -8.4144580e-01,  3.6350479e-03, -1.4165610e+00,\n",
              "       -1.3814044e+00, -1.5249868e-01, -7.6264876e-01,  1.1604714e+00,\n",
              "       -1.7034299e+00,  7.1920228e-01, -7.7075046e-01,  1.6867928e-01,\n",
              "        7.8255266e-01,  1.4846981e-01, -4.5913595e-01,  1.5470924e+00,\n",
              "        1.2224985e+00, -3.0264008e-01,  1.4823226e+00, -3.9652774e+00,\n",
              "        4.1482028e-01, -2.5117238e+00, -3.3764346e+00,  1.6185311e+00,\n",
              "       -3.0816844e-01,  6.2843096e-01,  1.4276540e+00, -2.1361227e+00,\n",
              "       -1.6863720e+00, -4.9999332e-01, -2.9121704e+00, -1.1751316e+00,\n",
              "        1.3813881e+00, -6.7971396e-01, -4.7005069e-01,  7.0379263e-01,\n",
              "       -2.5676668e+00,  2.0066826e+00,  2.1951535e+00, -2.4967481e-01,\n",
              "        2.9371526e+00,  3.1974855e-01, -1.1167825e+00,  2.4619203e+00,\n",
              "        5.7074370e+00,  2.6490037e+00,  6.3457257e-01, -5.5030054e-01,\n",
              "       -2.1223004e+00,  3.0241759e+00,  5.0534570e-01, -1.9811098e-01,\n",
              "        1.9266390e+00,  1.2086208e+00, -1.9692454e+00,  1.7822068e+00,\n",
              "        2.1649783e+00, -7.6464576e-01,  1.5524454e+00,  4.8831753e-02,\n",
              "       -2.7157364e+00,  3.0496805e+00, -4.0100858e-01, -1.3411735e-01,\n",
              "        1.0090605e+00, -1.5810804e+00,  1.9433684e+00, -1.4536141e+00,\n",
              "       -3.2374492e-01,  9.7367394e-01,  3.1406291e+00, -1.7739613e-01,\n",
              "        6.0097158e-01, -1.8989509e+00,  1.1133108e+00, -1.6805365e+00,\n",
              "        2.7923937e+00, -2.2459819e+00,  3.5241194e-02, -9.8198241e-01],\n",
              "      dtype=float32)"
            ]
          },
          "metadata": {
            "tags": []
          },
          "execution_count": 14
        }
      ]
    },
    {
      "cell_type": "code",
      "metadata": {
        "id": "1VgQU-iVhjMY",
        "outputId": "6e77a667-57c3-408d-9bd1-81d8a4d0b96e",
        "colab": {
          "base_uri": "https://localhost:8080/",
          "height": 87
        }
      },
      "source": [
        "# เปรียบเทียบคำ\n",
        "corpus.similarity(\"อาหาร\",\"อาหารว่าง\")"
      ],
      "execution_count": null,
      "outputs": [
        {
          "output_type": "stream",
          "text": [
            "/usr/local/lib/python3.6/dist-packages/gensim/matutils.py:737: FutureWarning: Conversion of the second argument of issubdtype from `int` to `np.signedinteger` is deprecated. In future, it will be treated as `np.int64 == np.dtype(int).type`.\n",
            "  if np.issubdtype(vec.dtype, np.int):\n"
          ],
          "name": "stderr"
        },
        {
          "output_type": "execute_result",
          "data": {
            "text/plain": [
              "0.7835518"
            ]
          },
          "metadata": {
            "tags": []
          },
          "execution_count": 15
        }
      ]
    },
    {
      "cell_type": "code",
      "metadata": {
        "id": "FfSTdrLJhn24",
        "outputId": "6beed9a1-c3c0-42a5-ae68-10ca8ce6ec4d",
        "colab": {
          "base_uri": "https://localhost:8080/",
          "height": 154
        }
      },
      "source": [
        "# คำอื่นที่ใกล้เคียง\n",
        "corpus.similar_words(\"อาหาร\", n=5, score=\"y\")"
      ],
      "execution_count": null,
      "outputs": [
        {
          "output_type": "stream",
          "text": [
            "/usr/local/lib/python3.6/dist-packages/gensim/matutils.py:737: FutureWarning: Conversion of the second argument of issubdtype from `int` to `np.signedinteger` is deprecated. In future, it will be treated as `np.int64 == np.dtype(int).type`.\n",
            "  if np.issubdtype(vec.dtype, np.int):\n"
          ],
          "name": "stderr"
        },
        {
          "output_type": "execute_result",
          "data": {
            "text/plain": [
              "[('อาหารว่าง', 0.7835519313812256),\n",
              " ('ของว่าง', 0.7366501092910767),\n",
              " ('ของหวาน', 0.703102707862854),\n",
              " ('เนื้อสัตว์', 0.6960341930389404),\n",
              " ('ผลไม้', 0.6641998291015625)]"
            ]
          },
          "metadata": {
            "tags": []
          },
          "execution_count": 16
        }
      ]
    },
    {
      "cell_type": "code",
      "metadata": {
        "id": "qbe4WIPmhwnq",
        "outputId": "a58374d6-c922-4b49-9740-d41cbf62db90",
        "colab": {
          "base_uri": "https://localhost:8080/",
          "height": 34
        }
      },
      "source": [
        "corpus.outofgroup([\"น้ำ\",\"อาหาร\",\"ข้าว\",\"รถยนต์\",\"ผัก\"])"
      ],
      "execution_count": null,
      "outputs": [
        {
          "output_type": "execute_result",
          "data": {
            "text/plain": [
              "'รถยนต์'"
            ]
          },
          "metadata": {
            "tags": []
          },
          "execution_count": 31
        }
      ]
    },
    {
      "cell_type": "code",
      "metadata": {
        "id": "xr970oDE4CjC",
        "outputId": "f3d3220d-23cc-4bfa-d272-df9d3f798e61",
        "colab": {
          "base_uri": "https://localhost:8080/",
          "height": 87
        }
      },
      "source": [
        "corpus.analogy(\"ผู้ชาย\",\"พ่อ\", \"แม่\", n=1)"
      ],
      "execution_count": null,
      "outputs": [
        {
          "output_type": "stream",
          "text": [
            "/usr/local/lib/python3.6/dist-packages/gensim/matutils.py:737: FutureWarning: Conversion of the second argument of issubdtype from `int` to `np.signedinteger` is deprecated. In future, it will be treated as `np.int64 == np.dtype(int).type`.\n",
            "  if np.issubdtype(vec.dtype, np.int):\n"
          ],
          "name": "stderr"
        },
        {
          "output_type": "execute_result",
          "data": {
            "text/plain": [
              "[('ผู้หญิง', 0.8345998525619507)]"
            ]
          },
          "metadata": {
            "tags": []
          },
          "execution_count": 15
        }
      ]
    },
    {
      "cell_type": "markdown",
      "metadata": {
        "id": "T2_b91-tBZI7"
      },
      "source": [
        "### plot"
      ]
    },
    {
      "cell_type": "code",
      "metadata": {
        "id": "2vUT_ZYbBe5Y",
        "outputId": "65c954cb-52f9-48bb-fbb8-969089511770",
        "colab": {
          "base_uri": "https://localhost:8080/",
          "height": 286
        }
      },
      "source": [
        "# ต้องลง font 'TH Sarabun New' ก่อน\n",
        "import matplotlib\n",
        "\n",
        "!wget https://github.com/Phonbopit/sarabun-webfont/raw/master/fonts/thsarabunnew-webfont.ttf\n",
        "!cp thsarabunnew-webfont.ttf /usr/local/lib/python3.6/dist-packages/matplotlib/mpl-data/fonts/ttf/\n",
        "!cp thsarabunnew-webfont.ttf /usr/share/fonts/truetype/\n",
        "\n",
        "matplotlib.font_manager._rebuild()"
      ],
      "execution_count": null,
      "outputs": [
        {
          "output_type": "stream",
          "text": [
            "--2018-10-16 08:38:43--  https://github.com/Phonbopit/sarabun-webfont/raw/master/fonts/thsarabunnew-webfont.ttf\n",
            "Resolving github.com (github.com)... 192.30.253.113, 192.30.253.112\n",
            "Connecting to github.com (github.com)|192.30.253.113|:443... connected.\n",
            "HTTP request sent, awaiting response... 302 Found\n",
            "Location: https://raw.githubusercontent.com/Phonbopit/sarabun-webfont/master/fonts/thsarabunnew-webfont.ttf [following]\n",
            "--2018-10-16 08:38:43--  https://raw.githubusercontent.com/Phonbopit/sarabun-webfont/master/fonts/thsarabunnew-webfont.ttf\n",
            "Resolving raw.githubusercontent.com (raw.githubusercontent.com)... 151.101.0.133, 151.101.64.133, 151.101.128.133, ...\n",
            "Connecting to raw.githubusercontent.com (raw.githubusercontent.com)|151.101.0.133|:443... connected.\n",
            "HTTP request sent, awaiting response... 200 OK\n",
            "Length: 98308 (96K) [application/octet-stream]\n",
            "Saving to: ‘thsarabunnew-webfont.ttf’\n",
            "\n",
            "\rthsarabunnew-webfon   0%[                    ]       0  --.-KB/s               \rthsarabunnew-webfon 100%[===================>]  96.00K  --.-KB/s    in 0.03s   \n",
            "\n",
            "2018-10-16 08:38:43 (3.01 MB/s) - ‘thsarabunnew-webfont.ttf’ saved [98308/98308]\n",
            "\n"
          ],
          "name": "stdout"
        }
      ]
    },
    {
      "cell_type": "code",
      "metadata": {
        "id": "z54afqo6BEli",
        "outputId": "fca728bb-5db4-4c81-8be0-d69a33c2faf7",
        "colab": {
          "base_uri": "https://localhost:8080/",
          "height": 362
        }
      },
      "source": [
        "words = \"ผู้ชาย พ่อ แม่ ผู้หญิง ปู่ ย่า ตา ยาย\".split()\n",
        "corpus.w2v_plot(words)  # ตา มี 2 ความหมาย"
      ],
      "execution_count": null,
      "outputs": [
        {
          "output_type": "display_data",
          "data": {
            "image/png": "[encoded data removed]",
            "text/plain": [
              "<matplotlib.figure.Figure at 0x7fa4ec73b2e8>"
            ]
          },
          "metadata": {
            "tags": []
          }
        },
        {
          "output_type": "execute_result",
          "data": {
            "text/plain": [
              "1"
            ]
          },
          "metadata": {
            "tags": []
          },
          "execution_count": 21
        }
      ]
    },
    {
      "cell_type": "markdown",
      "metadata": {
        "id": "shBKpqMLl5DX"
      },
      "source": [
        "### Deeper"
      ]
    },
    {
      "cell_type": "code",
      "metadata": {
        "id": "N1QaNytMl6us",
        "outputId": "6947abc0-fffa-4381-8fcb-7d43782edcc5",
        "colab": {
          "base_uri": "https://localhost:8080/",
          "height": 34
        }
      },
      "source": [
        "model = corpus.w2v_model\n",
        "model"
      ],
      "execution_count": null,
      "outputs": [
        {
          "output_type": "execute_result",
          "data": {
            "text/plain": [
              "<gensim.models.word2vec.Word2Vec at 0x7f042b5c5470>"
            ]
          },
          "metadata": {
            "tags": []
          },
          "execution_count": 35
        }
      ]
    },
    {
      "cell_type": "code",
      "metadata": {
        "id": "zXGXMiRNfHI3"
      },
      "source": [
        "wv = model.wv   # newer interface us wv instead of just model"
      ],
      "execution_count": null,
      "outputs": []
    },
    {
      "cell_type": "code",
      "metadata": {
        "id": "Vd_edIG7l6p9",
        "outputId": "463e45d9-560c-48bc-a223-f71050732ab1",
        "colab": {
          "base_uri": "https://localhost:8080/",
          "height": 50
        }
      },
      "source": [
        "vocab = wv.vocab  # a dict\n",
        "print(len(vocab))\n",
        "'อาหาร' in vocab"
      ],
      "execution_count": null,
      "outputs": [
        {
          "output_type": "stream",
          "text": [
            "31078\n"
          ],
          "name": "stdout"
        },
        {
          "output_type": "execute_result",
          "data": {
            "text/plain": [
              "True"
            ]
          },
          "metadata": {
            "tags": []
          },
          "execution_count": 45
        }
      ]
    },
    {
      "cell_type": "code",
      "metadata": {
        "id": "hum44AIyoB14",
        "outputId": "7fd91e5f-c447-4ed9-be8c-eaf8564eefe3",
        "colab": {
          "base_uri": "https://localhost:8080/",
          "height": 34
        }
      },
      "source": [
        "wordlist = wv.index2word\n",
        "wordlist[:10]"
      ],
      "execution_count": null,
      "outputs": [
        {
          "output_type": "execute_result",
          "data": {
            "text/plain": [
              "['ที่', 'การ', 'เป็น', 'ใน', 'ของ', 'มี', 'จะ', 'และ', 'ไม่', 'ได้']"
            ]
          },
          "metadata": {
            "tags": []
          },
          "execution_count": 56
        }
      ]
    },
    {
      "cell_type": "code",
      "metadata": {
        "id": "tXMhujjPmn9U",
        "outputId": "36e28d19-e297-4e8a-e95c-fc0b36198559",
        "colab": {
          "base_uri": "https://localhost:8080/",
          "height": 34
        }
      },
      "source": [
        "wv.similarity('อาหาร','อาหารว่าง')"
      ],
      "execution_count": null,
      "outputs": [
        {
          "output_type": "execute_result",
          "data": {
            "text/plain": [
              "0.7835518775463033"
            ]
          },
          "metadata": {
            "tags": []
          },
          "execution_count": 39
        }
      ]
    },
    {
      "cell_type": "code",
      "metadata": {
        "id": "fU9ceyHMm1Sv",
        "outputId": "03b02aa0-d5ad-4d9b-ac02-60b25e6c3afd",
        "colab": {
          "base_uri": "https://localhost:8080/",
          "height": 185
        }
      },
      "source": [
        "wv.most_similar('อาหาร')"
      ],
      "execution_count": null,
      "outputs": [
        {
          "output_type": "execute_result",
          "data": {
            "text/plain": [
              "[('อาหารว่าง', 0.7835519313812256),\n",
              " ('ของว่าง', 0.7366501092910767),\n",
              " ('ของหวาน', 0.703102707862854),\n",
              " ('เนื้อสัตว์', 0.6960341930389404),\n",
              " ('ผลไม้', 0.6641998291015625),\n",
              " ('เครื่องดื่ม', 0.6563372611999512),\n",
              " ('กาแฟ', 0.6466985940933228),\n",
              " ('กับข้าว', 0.641933798789978),\n",
              " ('ข้าวกล้อง', 0.6367597579956055),\n",
              " ('ผัก', 0.6347238421440125)]"
            ]
          },
          "metadata": {
            "tags": []
          },
          "execution_count": 41
        }
      ]
    },
    {
      "cell_type": "code",
      "metadata": {
        "id": "t9fXEDDdnlgW",
        "outputId": "0b013b4f-68cc-4bde-afdc-4e5802b0fbb7",
        "colab": {
          "base_uri": "https://localhost:8080/",
          "height": 34
        }
      },
      "source": [
        "wv.doesnt_match([\"น้ำ\",\"อาหาร\",\"ข้าว\",\"รถยนต์\",\"ผัก\"])"
      ],
      "execution_count": null,
      "outputs": [
        {
          "output_type": "execute_result",
          "data": {
            "text/plain": [
              "'รถยนต์'"
            ]
          },
          "metadata": {
            "tags": []
          },
          "execution_count": 43
        }
      ]
    },
    {
      "cell_type": "markdown",
      "metadata": {
        "id": "VCnq5n87dfma"
      },
      "source": [
        "### Projector"
      ]
    },
    {
      "cell_type": "code",
      "metadata": {
        "id": "8JuLm7ROdhs2"
      },
      "source": [
        "# export เพื่อแสดงบน Embedding Projector\n",
        "ft = open('tensor.tsv', 'w')\n",
        "fm = open('metadata.tsv', 'w')"
      ],
      "execution_count": null,
      "outputs": []
    },
    {
      "cell_type": "code",
      "metadata": {
        "id": "8mMFCb47dqEH",
        "outputId": "33e047c2-7e51-4c8e-86c6-89856f9a620c",
        "colab": {
          "base_uri": "https://localhost:8080/",
          "height": 34
        }
      },
      "source": [
        "len(wv.index2word) # a list"
      ],
      "execution_count": null,
      "outputs": [
        {
          "output_type": "execute_result",
          "data": {
            "text/plain": [
              "31078"
            ]
          },
          "metadata": {
            "tags": []
          },
          "execution_count": 60
        }
      ]
    },
    {
      "cell_type": "code",
      "metadata": {
        "id": "-mqp9fugdp-k",
        "outputId": "f040fef1-873b-4993-d2b7-831fff956448",
        "colab": {
          "base_uri": "https://localhost:8080/",
          "height": 34
        }
      },
      "source": [
        "wv.index2word[:10]"
      ],
      "execution_count": null,
      "outputs": [
        {
          "output_type": "execute_result",
          "data": {
            "text/plain": [
              "['ที่', 'การ', 'เป็น', 'ใน', 'ของ', 'มี', 'จะ', 'และ', 'ไม่', 'ได้']"
            ]
          },
          "metadata": {
            "tags": []
          },
          "execution_count": 55
        }
      ]
    },
    {
      "cell_type": "code",
      "metadata": {
        "id": "pA5UxoA4e732",
        "outputId": "6cad388c-96cd-41cd-ca7e-0de70bd5184f",
        "colab": {
          "base_uri": "https://localhost:8080/",
          "height": 34
        }
      },
      "source": [
        "len(wv['ที่'])   # vector dimension แค่ 100 เอง"
      ],
      "execution_count": null,
      "outputs": [
        {
          "output_type": "execute_result",
          "data": {
            "text/plain": [
              "100"
            ]
          },
          "metadata": {
            "tags": []
          },
          "execution_count": 62
        }
      ]
    },
    {
      "cell_type": "code",
      "metadata": {
        "id": "4HHCvJDBffYV"
      },
      "source": [
        "# ย่อจาก https://github.com/RaRe-Technologies/gensim/blob/develop/gensim/scripts/word2vec2tensor.py\n",
        "\n",
        "for word in wv.index2word:\n",
        "  fm.write(word + '\\n')  # a word on each line\n",
        "  vector_row = '\\t'.join('%.3f' % x for x in wv[word])\n",
        "  ft.write(vector_row + '\\n')"
      ],
      "execution_count": null,
      "outputs": []
    },
    {
      "cell_type": "code",
      "metadata": {
        "id": "-VXpobErhUft"
      },
      "source": [
        "fm.close()\n",
        "ft.close()"
      ],
      "execution_count": null,
      "outputs": []
    },
    {
      "cell_type": "code",
      "metadata": {
        "id": "LM7dEvIYfy_O"
      },
      "source": [
        "files.download('tensor.tsv')"
      ],
      "execution_count": null,
      "outputs": []
    },
    {
      "cell_type": "code",
      "metadata": {
        "id": "okngrTP2gSPX"
      },
      "source": [
        "files.download('metadata.tsv')"
      ],
      "execution_count": null,
      "outputs": []
    },
    {
      "cell_type": "markdown",
      "metadata": {
        "id": "QI8nXPRIhsoi"
      },
      "source": [
        "Upload ไปไว้บน AWS และ Gist แล้วทำ [Link ไป Projector](http://projector.tensorflow.org/?config=https://raw.githubusercontent.com/korakot/65cb9068842e6765bc29a052e55ec8fa/raw/fc960878dd0868612c4a40f4c8450f79ac8e5340/config.json)"
      ]
    },
    {
      "cell_type": "markdown",
      "metadata": {
        "id": "0n4BjrvAe9Va"
      },
      "source": [
        "# Footnote"
      ]
    },
    {
      "cell_type": "markdown",
      "metadata": {
        "id": "qtGXQcddfAaq"
      },
      "source": [
        "## Segmentation\n",
        "Word segmentation is based on a maximum collocation approach described in this publication:\n",
        "\"Aroonmanakun, W. 2002. [Collocation and Thai Word Segmentation](http://pioneer.chula.ac.th/~awirote/ling/SNLP2002-0051c.pdf). In Thanaruk Theeramunkong and Virach Sornlertlamvanich, eds. Proceedings of the Fifth Symposium on Natural Language Processing & The Fifth Oriental COCOSDA Workshop. Pathumthani: Sirindhorn International Institute of Technology. 68-75.\"\n",
        "\n",
        "## Syllable\n",
        "Use tltk.nlp.word_segment(Text) or tltk.nlp.syl_segment(Text) for segmenting Thai texts. Syllable segmentation now is based on a trigram model trainned on 3.1 million syllable corpus. Input text is a paragraph of Thai texts which can be mixed with English texts. Spaces in the paragraph will be marked as \"&lt;s/>\". Word boundary is marked by \"|\". Syllable boundary is marked by \"~\". Syllables here are written syllables. One written syllable may be pronounced as two syllables, i.e. \"สกัด\" is segemnted here as one written syllable, but it is pronounced as two syllables \"sa1-kat1\".\n",
        "\n",
        "## Dictionary\n",
        "Determining words in a sentence is based on the dictionary and maximum collocation strength between syllables. Since many compounds and idioms, e.g. 'เตาไมโครเวฟ', 'ไฟฟ้ากระแสสลับ', 'ปีงบประมาณ', 'อุโมงค์ใต้ดิน', 'อาหารจานด่วน', 'ปูนขาวผสมพิเศษ', 'เต้นแร้งเต้นกา' etc., are included in the standard dictionary, these will likely be segmented as one word. For applications that prefer smallest meaningful words (i.e. 'รถ','โดยสาร' as segmented in BEST corpus), users should reset the default dictionary used in this package and reload a new dictionary containing only simple words or smallest meaningful words. Use \"reset_thaidict()\" to clear default dictionary content, and \"read_thaidict('DICT_FIILE')\" to load a new dictionary. A list of words compiled from BEST corpus is included in this package as a file 'BEST.dict'\n",
        "\n",
        "## Proper names\n",
        "The standard dictionary used in this package has more then 40,000 entries including abbreviations and transliterations compiled from various sources. A dictionary of 8,700 proper names e.g. country names, organization names, location names, animal names, plant names, food names, ..., such as 'อุซเบกิสถาน', 'สำนักเลขาธิการนายกรัฐมนตรี', 'วัดใหญ่สุวรรณาราม', 'หนอนเจาะลำต้นข้าวโพด', 'ปลาหมึกกระเทียมพริกไทย', are also added as a list of words in the system.\n",
        "\n",
        "## Specialized Dict\n",
        "For segmenting a specific domain text, a specialized dicionary can be used by adding more dictionary before segmenting texts. This can be done by calling read_thaidict(\"SPECIALIZED_DICT\"). Please note that the dictionary is a text file in \"iso-8859-11\" encoding. The format is one word per one line.\n",
        "\n",
        "## Discourse Units\n",
        "'setence segment' or actually 'edu segment' is a process to break a paragraph into a chunk of discourse units, which usually are a clause. It is based on RandomForestClassifier model, which is trained on an edu-segmented corpus (approx. 7,000 edus) created and used in [Nalinee's thesis](http://www.arts.chula.ac.th/~ling/thesis/2556MA-LING-Nalinee.pdf). Accuracy of the model is 97.8%.\n",
        "The reason behind using edu can be found in\n",
        "- Aroonmanakun, W. 2007. Thoughts on Word and Sentence Segmentation in Thai. In Proceedings of the Seventh Symposium on Natural Language Processing, Dec 13-15, 2007, Pattaya, Thailand. 85-90.\n",
        "- Intasaw, N. and Aroonmanakun, W. 2013. Basic Principles for Segmenting Thai EDUs. in Proceedings of 27th Pacific Asia Conference on Language, Information, and Computation, pages 491-498, Nov 22-24, 2013, Taipei.\n",
        "\n",
        "## Romanization\n",
        "'grapheme to phoneme' (g2p), as well as IPA transcription (th2ipa) and Thai romanization (th2roman) is based on the hybrid approach presented in the paper \"A Unified Model of Thai Romanization and Word Segmentation\". The Thai Royal Institute guidline for Thai romanization gcan be [downloaded](http://www.arts.chula.ac.th/~ling/tts/ThaiRoman.pdf).\n",
        "- Aroonmanakun, W., and W. Rivepiboon. 2004. [A Unified Model of Thai Word Segmentation and Romanization](http://www.aclweb.org/anthology/Y04-1021). In Proceedings of The 18th Pacific Asia Conference on Language, Information and Computation, Dec 8-10, 2004, Tokyo, Japan. 205-214.\n",
        "\n",
        "## อื่นๆ\n",
        "- Module \"spell_candidates\" is modified from Peter Norvig's [Python codes](http://norvig.com/spell-correct.html)\n",
        "- BEST corpus is the corpus [released by NECTEC](https://www.nectec.or.th/corpus/)\n",
        "- Universal POS tags are used in this project. For more information, please see [Universal Dependencies](http://universaldependencies.org/u/pos/index.html)\n",
        "- pos_tag is based on PerceptronTagger in nltk.tag.perceptron. It is trained with TNC data manually pos-taged (approx. 148,000 words). Accuracy on pos tagging is 91.68%. NLTK PerceptronTagger is a port of the Textblob [Averaged Perceptron Tagger](https://explosion.ai/blog/part-of-speech-pos-tagger-in-python)\n",
        "- named entiy recognition module is a CRF model adapted from [this tutorial](http://sklearn-crfsuite.readthedocs.io/en/latest/tutorial.html). The model is trained with NER data used in [Sasimimon's](http://pioneer.chula.ac.th/~awirote/Data-Sasiwimon.zip) and [Nutcha's](http://pioneer.chula.ac.th/~awirote/Data-Nutcha.zip) theses (altogether 7,354 names in a corpus of 183,300 words).  Accuracy of the model is 92%"
      ]
    },
    {
      "cell_type": "markdown",
      "metadata": {
        "id": "o5uqwdMV7E0U"
      },
      "source": [
        "# Next\n",
        "- ลอง collocates แบบต่างๆ ดู\n",
        "- query จาก source ของ TNC โดยตรง"
      ]
    },
    {
      "cell_type": "code",
      "metadata": {
        "id": "lLiABNOy7FuL"
      },
      "source": [],
      "execution_count": null,
      "outputs": []
    }
  ]
}